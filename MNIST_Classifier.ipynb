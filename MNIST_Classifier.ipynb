{
  "nbformat": 4,
  "nbformat_minor": 0,
  "metadata": {
    "colab": {
      "provenance": [],
      "authorship_tag": "ABX9TyNlHfrvDe/66LVhMjUtVdS+",
      "include_colab_link": true
    },
    "kernelspec": {
      "name": "python3",
      "display_name": "Python 3"
    },
    "language_info": {
      "name": "python"
    }
  },
  "cells": [
    {
      "cell_type": "markdown",
      "metadata": {
        "id": "view-in-github",
        "colab_type": "text"
      },
      "source": [
        "<a href=\"https://colab.research.google.com/github/anshulrath0re/MNIST_Digit_classifier/blob/main/MNIST_Classifier.ipynb\" target=\"_parent\"><img src=\"https://colab.research.google.com/assets/colab-badge.svg\" alt=\"Open In Colab\"/></a>"
      ]
    },
    {
      "cell_type": "markdown",
      "source": [
        "# Importing Libraries"
      ],
      "metadata": {
        "id": "8hXd13o1Qej_"
      }
    },
    {
      "cell_type": "code",
      "execution_count": null,
      "metadata": {
        "id": "-6HqOlpZQX0F"
      },
      "outputs": [],
      "source": [
        "import torch\n",
        "import torch.nn as nn\n",
        "import torch.optim as optim\n",
        "import numpy as np\n",
        "import matplotlib.pyplot as plt\n",
        "from torch.utils.data import DataLoader, TensorDataset\n",
        "from PIL import Image"
      ]
    },
    {
      "cell_type": "markdown",
      "source": [
        "# Data Loading"
      ],
      "metadata": {
        "id": "LYZJ_ypIqikP"
      }
    },
    {
      "cell_type": "code",
      "source": [
        "def load_images(file_path):\n",
        "  with open(file_path, 'rb') as f:\n",
        "    data = f.read()\n",
        "  binary_data = np.frombuffer(data, dtype= np.uint8)[16:]\n",
        "  row = int.from_bytes(data[8:12], byteorder='big', signed = False)\n",
        "  column = int.from_bytes(data[12:16], byteorder= 'big' , signed= False)\n",
        "  images = binary_data.reshape((-1, row, column,))\n",
        "  return images"
      ],
      "metadata": {
        "id": "vay4XguqqprR"
      },
      "execution_count": null,
      "outputs": []
    },
    {
      "cell_type": "code",
      "source": [
        "images = load_images(\"/content/train-images.idx3-ubyte\")"
      ],
      "metadata": {
        "id": "wZWrVnFysICH"
      },
      "execution_count": null,
      "outputs": []
    },
    {
      "cell_type": "code",
      "source": [
        "def load_labels(file_path):\n",
        "  with open(file_path, 'rb') as f:\n",
        "    data = f.read()\n",
        "  labels = np.frombuffer(data, dtype= np.uint8)[8:]\n",
        "  return labels"
      ],
      "metadata": {
        "id": "BDuXdWUBuufP"
      },
      "execution_count": null,
      "outputs": []
    },
    {
      "cell_type": "code",
      "source": [
        "labels = load_labels('/content/train-labels.idx1-ubyte')"
      ],
      "metadata": {
        "id": "zV5KlDOHvxue"
      },
      "execution_count": null,
      "outputs": []
    },
    {
      "cell_type": "code",
      "source": [
        "print(labels)"
      ],
      "metadata": {
        "colab": {
          "base_uri": "https://localhost:8080/"
        },
        "id": "aBtOwLxb04RE",
        "outputId": "a5419799-62f2-431c-aca0-7b3446ab1f63"
      },
      "execution_count": null,
      "outputs": [
        {
          "output_type": "stream",
          "name": "stdout",
          "text": [
            "[5 0 4 ... 5 6 8]\n"
          ]
        }
      ]
    },
    {
      "cell_type": "code",
      "source": [
        "import torch\n",
        "import numpy as np\n",
        "from PIL import Image\n",
        "from IPython.display import display\n",
        "from google.colab import files\n",
        "\n",
        "def tensor_to_png(tensor: torch.Tensor, output_path: str) -> None:\n",
        "    \"\"\"\n",
        "    Convert a 1D torch.Tensor of length 784 into a 28×28 grayscale PNG,\n",
        "    display it inline in Colab, and offer it for download.\n",
        "    \"\"\"\n",
        "    # 1) Validate shape\n",
        "    if tensor.numel() != 784:\n",
        "        raise ValueError(f\"Expected tensor of 784 elements, got {tensor.numel()}\")\n",
        "\n",
        "    # 2) Move to CPU & numpy, reshape to 2D\n",
        "    arr = tensor.detach().cpu().numpy().reshape(28, 28)\n",
        "\n",
        "    # 3) Normalize / scale to uint8\n",
        "    arr_min, arr_max = arr.min(), arr.max()\n",
        "    if arr_max == arr_min:\n",
        "        img_data = np.full(arr.shape, 128, dtype=np.uint8)\n",
        "    else:\n",
        "        scaled   = (arr - arr_min) / (arr_max - arr_min)\n",
        "        img_data = (scaled * 255).astype(np.uint8)\n",
        "\n",
        "    # 4) Create PIL image\n",
        "    img = Image.fromarray(img_data, mode='L')\n",
        "    img.save(output_path)\n",
        "    print(f\"Saved to {output_path!r}\")\n",
        "\n",
        "    # 5) Display inline\n",
        "    display(img)\n",
        "\n",
        "    # 6) Download link\n",
        "    files.download(output_path)\n",
        "\n",
        "\n",
        "# --- Example usage ---\n",
        "# Suppose `X` is your (60000, 784) tensor and you want the 2nd image:\n",
        "print(tensor_to_png(flatten_tensor_features[2], \"mnist_sample.png\"))\n",
        "\n"
      ],
      "metadata": {
        "colab": {
          "base_uri": "https://localhost:8080/",
          "height": 80
        },
        "id": "S51y2cVmJUlJ",
        "outputId": "e72cbc0a-3c15-4999-f8f6-c9aef2c58936"
      },
      "execution_count": null,
      "outputs": [
        {
          "output_type": "stream",
          "name": "stdout",
          "text": [
            "Saved to 'mnist_sample.png'\n"
          ]
        },
        {
          "output_type": "display_data",
          "data": {
            "text/plain": [
              "<PIL.Image.Image image mode=L size=28x28>"
            ],
            "image/png": "[encoded data removed]",
            "image/jpeg": "[encoded data removed]"
          },
          "metadata": {}
        },
        {
          "output_type": "display_data",
          "data": {
            "text/plain": [
              "<IPython.core.display.Javascript object>"
            ],
            "application/javascript": [
              "\n",
              "    async function download(id, filename, size) {\n",
              "      if (!google.colab.kernel.accessAllowed) {\n",
              "        return;\n",
              "      }\n",
              "      const div = document.createElement('div');\n",
              "      const label = document.createElement('label');\n",
              "      label.textContent = `Downloading \"${filename}\": `;\n",
              "      div.appendChild(label);\n",
              "      const progress = document.createElement('progress');\n",
              "      progress.max = size;\n",
              "      div.appendChild(progress);\n",
              "      document.body.appendChild(div);\n",
              "\n",
              "      const buffers = [];\n",
              "      let downloaded = 0;\n",
              "\n",
              "      const channel = await google.colab.kernel.comms.open(id);\n",
              "      // Send a message to notify the kernel that we're ready.\n",
              "      channel.send({})\n",
              "\n",
              "      for await (const message of channel.messages) {\n",
              "        // Send a message to notify the kernel that we're ready.\n",
              "        channel.send({})\n",
              "        if (message.buffers) {\n",
              "          for (const buffer of message.buffers) {\n",
              "            buffers.push(buffer);\n",
              "            downloaded += buffer.byteLength;\n",
              "            progress.value = downloaded;\n",
              "          }\n",
              "        }\n",
              "      }\n",
              "      const blob = new Blob(buffers, {type: 'application/binary'});\n",
              "      const a = document.createElement('a');\n",
              "      a.href = window.URL.createObjectURL(blob);\n",
              "      a.download = filename;\n",
              "      div.appendChild(a);\n",
              "      a.click();\n",
              "      div.remove();\n",
              "    }\n",
              "  "
            ]
          },
          "metadata": {}
        },
        {
          "output_type": "display_data",
          "data": {
            "text/plain": [
              "<IPython.core.display.Javascript object>"
            ],
            "application/javascript": [
              "download(\"download_898b8cba-d7ef-429e-966c-ee6ff3f6bc0a\", \"mnist_sample.png\", 269)"
            ]
          },
          "metadata": {}
        },
        {
          "output_type": "stream",
          "name": "stdout",
          "text": [
            "None\n"
          ]
        }
      ]
    },
    {
      "cell_type": "markdown",
      "source": [
        "# Normalizing Data"
      ],
      "metadata": {
        "id": "PRROXz34-a8n"
      }
    },
    {
      "cell_type": "code",
      "source": [
        "normalized_images = images/256"
      ],
      "metadata": {
        "id": "hwoISaR7-gPO"
      },
      "execution_count": null,
      "outputs": []
    },
    {
      "cell_type": "code",
      "source": [
        "normalized_images.shape"
      ],
      "metadata": {
        "colab": {
          "base_uri": "https://localhost:8080/"
        },
        "id": "1KVvnIfBYu_H",
        "outputId": "65eda78d-41fa-4a87-9e5b-40f3f9f4a4be"
      },
      "execution_count": null,
      "outputs": [
        {
          "output_type": "execute_result",
          "data": {
            "text/plain": [
              "(60000, 28, 28)"
            ]
          },
          "metadata": {},
          "execution_count": 102
        }
      ]
    },
    {
      "cell_type": "code",
      "source": [
        "flatten_x = normalized_images.reshape(-1, 784)"
      ],
      "metadata": {
        "id": "Pl50Yz8qCGL1"
      },
      "execution_count": null,
      "outputs": []
    },
    {
      "cell_type": "code",
      "source": [
        "for i in range(28):\n",
        " print(flatten_x[0][i*28 : i*28+28])\n",
        " print('\\n')\n"
      ],
      "metadata": {
        "id": "VZ0mq_MOCueu"
      },
      "execution_count": null,
      "outputs": []
    },
    {
      "cell_type": "code",
      "source": [
        "flatten_x[0].shape"
      ],
      "metadata": {
        "colab": {
          "base_uri": "https://localhost:8080/"
        },
        "id": "1g89QqXTCUff",
        "outputId": "dd9fbdbc-bf9a-4bb0-d17d-7502c636450f"
      },
      "execution_count": null,
      "outputs": [
        {
          "output_type": "execute_result",
          "data": {
            "text/plain": [
              "(784,)"
            ]
          },
          "metadata": {},
          "execution_count": 122
        }
      ]
    },
    {
      "cell_type": "code",
      "source": [
        "encoder = OneHotEncoder(sparse_output= False)\n",
        "rl =labels.reshape(-1,1)\n",
        "encoder.fit(rl)\n",
        "one_hot_labels = encoder.transform(rl)"
      ],
      "metadata": {
        "id": "aXwQTcGv1AYx"
      },
      "execution_count": null,
      "outputs": []
    },
    {
      "cell_type": "code",
      "source": [
        "print(one_hot_labels[1])"
      ],
      "metadata": {
        "colab": {
          "base_uri": "https://localhost:8080/"
        },
        "id": "4wFyunVr3JSW",
        "outputId": "5fb03da1-4878-40ab-e205-1478d46cc14e"
      },
      "execution_count": null,
      "outputs": [
        {
          "output_type": "stream",
          "name": "stdout",
          "text": [
            "[1. 0. 0. 0. 0. 0. 0. 0. 0. 0.]\n"
          ]
        }
      ]
    },
    {
      "cell_type": "code",
      "source": [
        "# no need of normalizing labels as they should be one hot encoded\n",
        "# normalized_labels = labels/10"
      ],
      "metadata": {
        "id": "qQ31RyEI_BGM"
      },
      "execution_count": null,
      "outputs": []
    },
    {
      "cell_type": "markdown",
      "source": [
        "# Trying Linear recurrsion\n"
      ],
      "metadata": {
        "id": "M5RksdgvAz0v"
      }
    },
    {
      "cell_type": "code",
      "source": [
        "#MSE\n",
        "def MSE(w_mse, X_mse, y_mse):\n",
        "  sample_size = X_mse.shape[0]\n",
        "  y__ = X_mse.dot(w_mse)\n",
        "  error_sq = (y__ - y_mse)**2\n",
        "  return np.mean(error_sq)/2"
      ],
      "metadata": {
        "id": "Du0nSwqRA5XS"
      },
      "execution_count": null,
      "outputs": []
    },
    {
      "cell_type": "code",
      "source": [
        "w = np.array(np.array(float))"
      ],
      "metadata": {
        "id": "J4TY8duuFnRT"
      },
      "execution_count": null,
      "outputs": []
    },
    {
      "cell_type": "code",
      "source": [
        "w"
      ],
      "metadata": {
        "colab": {
          "base_uri": "https://localhost:8080/"
        },
        "id": "K9omnT6XGL1x",
        "outputId": "c6f4b453-d58d-409e-f369-eb77ef298edf"
      },
      "execution_count": null,
      "outputs": [
        {
          "output_type": "execute_result",
          "data": {
            "text/plain": [
              "array(<class 'float'>, dtype=object)"
            ]
          },
          "metadata": {},
          "execution_count": 135
        }
      ]
    },
    {
      "cell_type": "code",
      "source": [
        "def lr(X_train, y_train):\n",
        "  for i in range(y_train.shape[0]):\n",
        "    w[i] =np.linalg.inv(X_train.T @ X_train) @ X_train.T @ y_train"
      ],
      "metadata": {
        "id": "x9LdFDvGBcEC"
      },
      "execution_count": null,
      "outputs": []
    },
    {
      "cell_type": "code",
      "source": [
        "import numpy as np\n",
        "\n",
        "def lr_closed_form(X, Y):\n",
        "    # X: (n_samples, n_features)\n",
        "    # Y: (n_samples, n_targets)   (for single-vector y, n_targets = 1)\n",
        "    # use pseudo-inverse for numeric stability / singular X^T X\n",
        "    XtX = X.T @ X\n",
        "    XtX_inv = np.linalg.pinv(XtX)       # shape (n_features, n_features)\n",
        "    W = XtX_inv @ (X.T @ Y)             # shape (n_features, n_targets)\n",
        "    return W\n",
        "\n",
        "# Example usage:\n",
        "W = lr_closed_form(flatten_x, one_hot_labels)\n",
        "# If you just have Y as a vector (shape (n_samples,)), reshape it:\n",
        "# W = lr_closed_form(flatten_x, y_vector.reshape(-1, 1))\n"
      ],
      "metadata": {
        "id": "Hsd05A31HZNo"
      },
      "execution_count": null,
      "outputs": []
    },
    {
      "cell_type": "code",
      "source": [
        "print(labels[10])"
      ],
      "metadata": {
        "colab": {
          "base_uri": "https://localhost:8080/"
        },
        "id": "VAdtoXg4ImCn",
        "outputId": "e355b5af-de9d-41eb-f606-4d45ffce32b1"
      },
      "execution_count": null,
      "outputs": [
        {
          "output_type": "stream",
          "name": "stdout",
          "text": [
            "3\n"
          ]
        }
      ]
    },
    {
      "cell_type": "code",
      "source": [
        "print(flatten_x[10].dot(W))"
      ],
      "metadata": {
        "colab": {
          "base_uri": "https://localhost:8080/"
        },
        "id": "I1R6CnUbIGzL",
        "outputId": "1cc020d8-275f-47c6-ef62-d4ba9dda79e5"
      },
      "execution_count": null,
      "outputs": [
        {
          "output_type": "stream",
          "name": "stdout",
          "text": [
            "[ 0.09917694  0.19435205  0.09386254  0.67154284 -0.1785025   0.04406953\n",
            " -0.14383908  0.07933444  0.07603549  0.24246847]\n"
          ]
        }
      ]
    },
    {
      "cell_type": "code",
      "source": [
        "MSE(W, flatten_x, one_hot_labels)"
      ],
      "metadata": {
        "colab": {
          "base_uri": "https://localhost:8080/"
        },
        "id": "hRoYTMIKHewv",
        "outputId": "d8ed0ba3-6dff-448f-8991-f7d8785bb6f4"
      },
      "execution_count": null,
      "outputs": [
        {
          "output_type": "execute_result",
          "data": {
            "text/plain": [
              "np.float64(0.019550186200288516)"
            ]
          },
          "metadata": {},
          "execution_count": 148
        }
      ]
    },
    {
      "cell_type": "code",
      "source": [
        "test_labels = load_labels('/content/t10k-labels(1).idx1-ubyte')"
      ],
      "metadata": {
        "id": "4WptqMHcOVeG"
      },
      "execution_count": null,
      "outputs": []
    },
    {
      "cell_type": "markdown",
      "source": [
        "checking accuracy"
      ],
      "metadata": {
        "id": "FIiqFQVQM1Se"
      }
    },
    {
      "cell_type": "code",
      "source": [
        "import numpy as np\n",
        "\n",
        "def compute_accuracy(X, W, labels):\n",
        "    \"\"\"\n",
        "    X      : array of shape (n_samples, n_features)\n",
        "    W      : weight matrix of shape (n_features, n_classes)\n",
        "    labels : integer array of shape (n_samples,), values in [0..n_classes-1]\n",
        "    \"\"\"\n",
        "    # Compute the raw scores for each class\n",
        "    scores = X @ W                       # shape (n_samples, n_classes)\n",
        "    # Pick the class with the highest score\n",
        "    preds = np.argmax(scores, axis=1)    # shape (n_samples,)\n",
        "    # Compare to the true labels\n",
        "    correct = (preds == labels)          # boolean array\n",
        "    # Return fraction correct\n",
        "    return correct.mean()\n",
        "\n"
      ],
      "metadata": {
        "id": "4H-6iFMgB3Fu"
      },
      "execution_count": null,
      "outputs": []
    },
    {
      "cell_type": "code",
      "source": [
        "acc = compute_accuracy(flatten_x, W, labels)\n",
        "print(f\"Model accuracy: {acc*100:.2f}%\")"
      ],
      "metadata": {
        "colab": {
          "base_uri": "https://localhost:8080/"
        },
        "id": "F9pYBHXQOoq2",
        "outputId": "d8214694-8e51-4e16-f0d8-80d699ccd295"
      },
      "execution_count": null,
      "outputs": [
        {
          "output_type": "stream",
          "name": "stdout",
          "text": [
            "Model accuracy: 85.19%\n"
          ]
        }
      ]
    },
    {
      "cell_type": "code",
      "source": [
        "from PIL import Image\n",
        "import numpy as np\n",
        "\n",
        "def predict_from_png(path: str, W: np.ndarray) -> int:\n",
        "    \"\"\"\n",
        "    path: filesystem path to a 28×28 grayscale PNG\n",
        "    W   : weight matrix of shape (n_features, n_classes), here (784, 10)\n",
        "\n",
        "    Returns the predicted digit (0–9).\n",
        "    \"\"\"\n",
        "    # 1. Load and ensure grayscale\n",
        "    img = Image.open(path).convert('L')   # 'L' = 8-bit grayscale\n",
        "\n",
        "    # 2. Verify size (optional)\n",
        "    if img.size != (28, 28):\n",
        "        raise ValueError(f\"Expected 28×28 image, got {img.size}\")\n",
        "\n",
        "    # 3. To NumPy array and normalize\n",
        "    arr = np.asarray(img, dtype=np.float32) / 255.0  # shape (28,28)\n",
        "\n",
        "    # 4. Flatten to (784,)\n",
        "    x = arr.ravel()  # or arr.flatten()\n",
        "\n",
        "    # 5. Compute scores and pick max\n",
        "    scores = x @ W   # shape (10,)\n",
        "    pred  = int(np.argmax(scores))\n",
        "\n",
        "    return pred\n",
        "\n",
        "# Example usage:\n",
        "# >>> digit = predict_from_png(\"some_digit.png\", W)\n",
        "# >>> print(\"I think it’s a\", digit)\n"
      ],
      "metadata": {
        "id": "16nX2EHkU8EZ"
      },
      "execution_count": null,
      "outputs": []
    },
    {
      "cell_type": "code",
      "source": [
        "print(predict_from_png(\"/content/custom_sample.png\",W))"
      ],
      "metadata": {
        "colab": {
          "base_uri": "https://localhost:8080/"
        },
        "id": "sG_fY2t_VORF",
        "outputId": "852664be-0f09-442e-d5d2-cbecc9590959"
      },
      "execution_count": null,
      "outputs": [
        {
          "output_type": "stream",
          "name": "stdout",
          "text": [
            "9\n"
          ]
        }
      ]
    },
    {
      "cell_type": "markdown",
      "source": [
        "test data accuracy"
      ],
      "metadata": {
        "id": "k1lKOCtTSy9T"
      }
    },
    {
      "cell_type": "code",
      "source": [
        "acc = compute_accuracy(test_images, W, test_labels)\n",
        "print(f\"Model accuracy: {acc*100:.2f}%\")"
      ],
      "metadata": {
        "colab": {
          "base_uri": "https://localhost:8080/"
        },
        "id": "kAvdnJ-XNigS",
        "outputId": "7dd18ac3-ef5a-42c3-e0f9-fbac9d2aa90d"
      },
      "execution_count": null,
      "outputs": [
        {
          "output_type": "stream",
          "name": "stdout",
          "text": [
            "Model accuracy: 85.34%\n"
          ]
        }
      ]
    },
    {
      "cell_type": "code",
      "source": [
        "test_images = (load_images(\"/content/t10k-images.idx3-ubyte\").reshape(-1, 784))/256"
      ],
      "metadata": {
        "id": "VXtnGQGrNkvv"
      },
      "execution_count": null,
      "outputs": []
    },
    {
      "cell_type": "code",
      "source": [
        "import numpy as np\n",
        "\n",
        "def per_class_accuracy(X, W, labels, classes=None):\n",
        "\n",
        "    scores = X @ W                          # shape (n_samples, n_classes)\n",
        "    preds  = np.argmax(scores, axis=1)      # shape (n_samples,)\n",
        "\n",
        "    # 2) decide which classes to report\n",
        "    if classes is None:\n",
        "        classes = np.unique(labels)\n",
        "    per_class_acc = {}\n",
        "\n",
        "    for cls in classes:\n",
        "        # mask of all samples whose true label == cls\n",
        "        idx = np.where(labels == cls)[0]\n",
        "        if idx.size == 0:\n",
        "            per_class_acc[cls] = np.nan    # no samples of this class\n",
        "        else:\n",
        "            # compare preds[idx] vs cls\n",
        "            per_class_acc[cls] = np.mean(preds[idx] == cls)\n",
        "\n",
        "    return per_class_acc"
      ],
      "metadata": {
        "id": "F5-wxPAiSxlT"
      },
      "execution_count": null,
      "outputs": []
    },
    {
      "cell_type": "code",
      "source": [
        "#train data Accuracy per digit\n",
        "classes = list(range(1, 10))\n",
        "accs = per_class_accuracy(flatten_x, W, labels, classes)\n",
        "for digit, acc in accs.items():\n",
        "    print(f\"Digit {digit}: {acc*100:.2f}%\")"
      ],
      "metadata": {
        "colab": {
          "base_uri": "https://localhost:8080/"
        },
        "collapsed": true,
        "id": "SwuzfIBLTTSY",
        "outputId": "59d84601-1748-4c7e-c40d-aea9c961cf56"
      },
      "execution_count": null,
      "outputs": [
        {
          "output_type": "stream",
          "name": "stdout",
          "text": [
            "Digit 1: 96.62%\n",
            "Digit 2: 80.60%\n",
            "Digit 3: 84.91%\n",
            "Digit 4: 87.73%\n",
            "Digit 5: 69.84%\n",
            "Digit 6: 92.78%\n",
            "Digit 7: 86.05%\n",
            "Digit 8: 74.48%\n",
            "Digit 9: 80.32%\n"
          ]
        }
      ]
    },
    {
      "cell_type": "code",
      "source": [
        "#test data Accuracy per digit\n",
        "classes = list(range(1, 10))\n",
        "accs = per_class_accuracy(test_images, W, test_labels, classes)\n",
        "for digit, acc in accs.items():\n",
        "    print(f\"Digit {digit}: {acc*100:.2f}%\")"
      ],
      "metadata": {
        "colab": {
          "base_uri": "https://localhost:8080/"
        },
        "collapsed": true,
        "id": "_NiKjO5xTUE6",
        "outputId": "7effba2a-e8c5-4852-c484-21938f8fe36a"
      },
      "execution_count": null,
      "outputs": [
        {
          "output_type": "stream",
          "name": "stdout",
          "text": [
            "Digit 1: 97.53%\n",
            "Digit 2: 78.39%\n",
            "Digit 3: 87.82%\n",
            "Digit 4: 88.80%\n",
            "Digit 5: 69.96%\n",
            "Digit 6: 91.02%\n",
            "Digit 7: 85.31%\n",
            "Digit 8: 76.28%\n",
            "Digit 9: 79.39%\n"
          ]
        }
      ]
    },
    {
      "cell_type": "code",
      "source": [
        "mean_digit_image(labels, images , num= 3, save_path='/content/custom_sample.png')"
      ],
      "metadata": {
        "colab": {
          "base_uri": "https://localhost:8080/",
          "height": 45
        },
        "id": "3ulS_QSecVuf",
        "outputId": "bfd54850-6fd0-4c44-e232-ed301cd0d504"
      },
      "execution_count": null,
      "outputs": [
        {
          "output_type": "execute_result",
          "data": {
            "text/plain": [
              "<PIL.Image.Image image mode=L size=28x28>"
            ],
            "image/png": "[encoded data removed]",
            "image/jpeg": "[encoded data removed]"
          },
          "metadata": {},
          "execution_count": 204
        }
      ]
    },
    {
      "cell_type": "code",
      "source": [
        "def mean_digit_image(labels: np.ndarray,\n",
        "                     images: np.ndarray,\n",
        "                     num: int,\n",
        "                     normalized_images: np.ndarray = None,\n",
        "                     save_path: str = None) -> Image.Image:\n",
        "\n",
        "    # Select which array to average\n",
        "    if normalized_images is not None:\n",
        "        data = normalized_images  # floats in [0, 1]\n",
        "        scale = 255.0\n",
        "    else:\n",
        "        # cast to float to avoid uint8 overflow\n",
        "        data = images.astype(np.float64)\n",
        "        scale = 1.0\n",
        "\n",
        "    # Mask for samples of the desired digit\n",
        "    mask = (labels == num)\n",
        "    if not np.any(mask):\n",
        "        raise ValueError(f\"No examples found for digit {num}\")\n",
        "\n",
        "    # Compute the mean over axis=0 → shape (28, 28)\n",
        "    mean_mat = data[mask].mean(axis=0) * scale\n",
        "\n",
        "    # Clip to valid byte range and convert to uint8\n",
        "    mean_mat = np.clip(mean_mat, 0, 255).astype(np.uint8)\n",
        "\n",
        "    # Build PIL image\n",
        "    img = Image.fromarray(mean_mat, mode='L')\n",
        "\n",
        "    # Optionally write to disk\n",
        "    if save_path:\n",
        "        img.save(save_path, format='PNG')\n",
        "\n",
        "    return img"
      ],
      "metadata": {
        "id": "dF-K7Il5TgvH"
      },
      "execution_count": null,
      "outputs": []
    },
    {
      "cell_type": "markdown",
      "source": [
        "# Dataset and dataloader configuration\n"
      ],
      "metadata": {
        "id": "jcq3VvUmBKKo"
      }
    },
    {
      "cell_type": "code",
      "source": [
        "tensor_features = torch.from_numpy(normalized_images)"
      ],
      "metadata": {
        "id": "T_m-8E49Jq83"
      },
      "execution_count": null,
      "outputs": []
    },
    {
      "cell_type": "markdown",
      "source": [
        "cross check here if features are flattening in the right way"
      ],
      "metadata": {
        "id": "zjEbGDvl9M4j"
      }
    },
    {
      "cell_type": "code",
      "source": [
        "tensor_features.shape[0]"
      ],
      "metadata": {
        "colab": {
          "base_uri": "https://localhost:8080/"
        },
        "id": "tNaN74esBnrW",
        "outputId": "11080fa7-aefb-404d-db67-0d2078e8d07b"
      },
      "execution_count": null,
      "outputs": [
        {
          "output_type": "execute_result",
          "data": {
            "text/plain": [
              "60000"
            ]
          },
          "metadata": {},
          "execution_count": 144
        }
      ]
    },
    {
      "cell_type": "code",
      "source": [
        "flatten_tensor_features = tensor_features.reshape(tensor_features.shape[0], tensor_features.shape[1]*tensor_features.shape[2])"
      ],
      "metadata": {
        "id": "PQKF1wc3KU9z"
      },
      "execution_count": null,
      "outputs": []
    },
    {
      "cell_type": "code",
      "source": [
        "print(tensor_features.shape)"
      ],
      "metadata": {
        "colab": {
          "base_uri": "https://localhost:8080/"
        },
        "id": "9O8zBy0HAQWr",
        "outputId": "d4abd7f4-38e4-4b17-ed59-e716aecf8d37"
      },
      "execution_count": null,
      "outputs": [
        {
          "output_type": "stream",
          "name": "stdout",
          "text": [
            "torch.Size([60000, 28, 28])\n"
          ]
        }
      ]
    },
    {
      "cell_type": "code",
      "source": [
        "print(flatten_tensor_features.shape[0])"
      ],
      "metadata": {
        "colab": {
          "base_uri": "https://localhost:8080/"
        },
        "id": "Ny63tqXm9BfE",
        "outputId": "cd32caba-71fd-4498-8204-7b72b501780f"
      },
      "execution_count": null,
      "outputs": [
        {
          "output_type": "stream",
          "name": "stdout",
          "text": [
            "60000\n"
          ]
        }
      ]
    },
    {
      "cell_type": "code",
      "source": [
        "tensor_labels = torch.from_numpy(labels)"
      ],
      "metadata": {
        "colab": {
          "base_uri": "https://localhost:8080/"
        },
        "id": "r_ruM0hyzXQR",
        "outputId": "fc75dc2c-ff6f-4599-97d1-9e9b6859fb70"
      },
      "execution_count": null,
      "outputs": [
        {
          "output_type": "stream",
          "name": "stderr",
          "text": [
            "/tmp/ipython-input-23-1508344864.py:1: UserWarning: The given NumPy array is not writable, and PyTorch does not support non-writable tensors. This means writing to this tensor will result in undefined behavior. You may want to copy the array to protect its data or make it writable before converting it to a tensor. This type of warning will be suppressed for the rest of this program. (Triggered internally at /pytorch/torch/csrc/utils/tensor_numpy.cpp:203.)\n",
            "  tensor_labels = torch.from_numpy(labels)\n"
          ]
        }
      ]
    },
    {
      "cell_type": "code",
      "source": [
        "tensor_labels"
      ],
      "metadata": {
        "colab": {
          "base_uri": "https://localhost:8080/"
        },
        "id": "Wrsmjhypk1Dm",
        "outputId": "ebe4d0fe-9dcb-41ef-dc9c-46c2ea965dde"
      },
      "execution_count": null,
      "outputs": [
        {
          "output_type": "execute_result",
          "data": {
            "text/plain": [
              "tensor([5, 0, 4,  ..., 5, 6, 8], dtype=torch.uint8)"
            ]
          },
          "metadata": {},
          "execution_count": 24
        }
      ]
    },
    {
      "cell_type": "code",
      "source": [
        "print(tensor_labels[0])"
      ],
      "metadata": {
        "colab": {
          "base_uri": "https://localhost:8080/"
        },
        "id": "rkXTZpsA366t",
        "outputId": "eca88f56-1206-412e-d6e1-dde77419b440"
      },
      "execution_count": null,
      "outputs": [
        {
          "output_type": "stream",
          "name": "stdout",
          "text": [
            "tensor([0., 0., 0., 0., 0., 1., 0., 0., 0., 0.], dtype=torch.float64)\n"
          ]
        }
      ]
    },
    {
      "cell_type": "code",
      "source": [
        "dataset = TensorDataset( flatten_tensor_features , tensor_labels)"
      ],
      "metadata": {
        "id": "PABpcb_6B3yv"
      },
      "execution_count": null,
      "outputs": []
    },
    {
      "cell_type": "code",
      "source": [
        "dataset[0]"
      ],
      "metadata": {
        "colab": {
          "base_uri": "https://localhost:8080/"
        },
        "collapsed": true,
        "id": "HY3v-Z4KlJhB",
        "outputId": "c48fc8e6-af88-434e-99fe-1613910d0ad3"
      },
      "execution_count": null,
      "outputs": [
        {
          "output_type": "execute_result",
          "data": {
            "text/plain": [
              "(tensor([0.0000, 0.0000, 0.0000, 0.0000, 0.0000, 0.0000, 0.0000, 0.0000, 0.0000,\n",
              "         0.0000, 0.0000, 0.0000, 0.0000, 0.0000, 0.0000, 0.0000, 0.0000, 0.0000,\n",
              "         0.0000, 0.0000, 0.0000, 0.0000, 0.0000, 0.0000, 0.0000, 0.0000, 0.0000,\n",
              "         0.0000, 0.0000, 0.0000, 0.0000, 0.0000, 0.0000, 0.0000, 0.0000, 0.0000,\n",
              "         0.0000, 0.0000, 0.0000, 0.0000, 0.0000, 0.0000, 0.0000, 0.0000, 0.0000,\n",
              "         0.0000, 0.0000, 0.0000, 0.0000, 0.0000, 0.0000, 0.0000, 0.0000, 0.0000,\n",
              "         0.0000, 0.0000, 0.0000, 0.0000, 0.0000, 0.0000, 0.0000, 0.0000, 0.0000,\n",
              "         0.0000, 0.0000, 0.0000, 0.0000, 0.0000, 0.0000, 0.0000, 0.0000, 0.0000,\n",
              "         0.0000, 0.0000, 0.0000, 0.0000, 0.0000, 0.0000, 0.0000, 0.0000, 0.0000,\n",
              "         0.0000, 0.0000, 0.0000, 0.0000, 0.0000, 0.0000, 0.0000, 0.0000, 0.0000,\n",
              "         0.0000, 0.0000, 0.0000, 0.0000, 0.0000, 0.0000, 0.0000, 0.0000, 0.0000,\n",
              "         0.0000, 0.0000, 0.0000, 0.0000, 0.0000, 0.0000, 0.0000, 0.0000, 0.0000,\n",
              "         0.0000, 0.0000, 0.0000, 0.0000, 0.0000, 0.0000, 0.0000, 0.0000, 0.0000,\n",
              "         0.0000, 0.0000, 0.0000, 0.0000, 0.0000, 0.0000, 0.0000, 0.0000, 0.0000,\n",
              "         0.0000, 0.0000, 0.0000, 0.0000, 0.0000, 0.0000, 0.0000, 0.0000, 0.0000,\n",
              "         0.0000, 0.0000, 0.0000, 0.0000, 0.0000, 0.0000, 0.0000, 0.0000, 0.0000,\n",
              "         0.0000, 0.0000, 0.0000, 0.0000, 0.0000, 0.0000, 0.0000, 0.0000, 0.0117,\n",
              "         0.0703, 0.0703, 0.0703, 0.4922, 0.5312, 0.6836, 0.1016, 0.6484, 0.9961,\n",
              "         0.9648, 0.4961, 0.0000, 0.0000, 0.0000, 0.0000, 0.0000, 0.0000, 0.0000,\n",
              "         0.0000, 0.0000, 0.0000, 0.0000, 0.0000, 0.1172, 0.1406, 0.3672, 0.6016,\n",
              "         0.6641, 0.9883, 0.9883, 0.9883, 0.9883, 0.9883, 0.8789, 0.6719, 0.9883,\n",
              "         0.9453, 0.7617, 0.2500, 0.0000, 0.0000, 0.0000, 0.0000, 0.0000, 0.0000,\n",
              "         0.0000, 0.0000, 0.0000, 0.0000, 0.0000, 0.1914, 0.9297, 0.9883, 0.9883,\n",
              "         0.9883, 0.9883, 0.9883, 0.9883, 0.9883, 0.9883, 0.9805, 0.3633, 0.3203,\n",
              "         0.3203, 0.2188, 0.1523, 0.0000, 0.0000, 0.0000, 0.0000, 0.0000, 0.0000,\n",
              "         0.0000, 0.0000, 0.0000, 0.0000, 0.0000, 0.0000, 0.0703, 0.8555, 0.9883,\n",
              "         0.9883, 0.9883, 0.9883, 0.9883, 0.7734, 0.7109, 0.9648, 0.9414, 0.0000,\n",
              "         0.0000, 0.0000, 0.0000, 0.0000, 0.0000, 0.0000, 0.0000, 0.0000, 0.0000,\n",
              "         0.0000, 0.0000, 0.0000, 0.0000, 0.0000, 0.0000, 0.0000, 0.0000, 0.3125,\n",
              "         0.6094, 0.4180, 0.9883, 0.9883, 0.8008, 0.0430, 0.0000, 0.1680, 0.6016,\n",
              "         0.0000, 0.0000, 0.0000, 0.0000, 0.0000, 0.0000, 0.0000, 0.0000, 0.0000,\n",
              "         0.0000, 0.0000, 0.0000, 0.0000, 0.0000, 0.0000, 0.0000, 0.0000, 0.0000,\n",
              "         0.0000, 0.0547, 0.0039, 0.6016, 0.9883, 0.3516, 0.0000, 0.0000, 0.0000,\n",
              "         0.0000, 0.0000, 0.0000, 0.0000, 0.0000, 0.0000, 0.0000, 0.0000, 0.0000,\n",
              "         0.0000, 0.0000, 0.0000, 0.0000, 0.0000, 0.0000, 0.0000, 0.0000, 0.0000,\n",
              "         0.0000, 0.0000, 0.0000, 0.0000, 0.5430, 0.9883, 0.7422, 0.0078, 0.0000,\n",
              "         0.0000, 0.0000, 0.0000, 0.0000, 0.0000, 0.0000, 0.0000, 0.0000, 0.0000,\n",
              "         0.0000, 0.0000, 0.0000, 0.0000, 0.0000, 0.0000, 0.0000, 0.0000, 0.0000,\n",
              "         0.0000, 0.0000, 0.0000, 0.0000, 0.0000, 0.0430, 0.7422, 0.9883, 0.2734,\n",
              "         0.0000, 0.0000, 0.0000, 0.0000, 0.0000, 0.0000, 0.0000, 0.0000, 0.0000,\n",
              "         0.0000, 0.0000, 0.0000, 0.0000, 0.0000, 0.0000, 0.0000, 0.0000, 0.0000,\n",
              "         0.0000, 0.0000, 0.0000, 0.0000, 0.0000, 0.0000, 0.0000, 0.1367, 0.9414,\n",
              "         0.8789, 0.6250, 0.4219, 0.0039, 0.0000, 0.0000, 0.0000, 0.0000, 0.0000,\n",
              "         0.0000, 0.0000, 0.0000, 0.0000, 0.0000, 0.0000, 0.0000, 0.0000, 0.0000,\n",
              "         0.0000, 0.0000, 0.0000, 0.0000, 0.0000, 0.0000, 0.0000, 0.0000, 0.0000,\n",
              "         0.3164, 0.9375, 0.9883, 0.9883, 0.4648, 0.0977, 0.0000, 0.0000, 0.0000,\n",
              "         0.0000, 0.0000, 0.0000, 0.0000, 0.0000, 0.0000, 0.0000, 0.0000, 0.0000,\n",
              "         0.0000, 0.0000, 0.0000, 0.0000, 0.0000, 0.0000, 0.0000, 0.0000, 0.0000,\n",
              "         0.0000, 0.0000, 0.1758, 0.7266, 0.9883, 0.9883, 0.5859, 0.1055, 0.0000,\n",
              "         0.0000, 0.0000, 0.0000, 0.0000, 0.0000, 0.0000, 0.0000, 0.0000, 0.0000,\n",
              "         0.0000, 0.0000, 0.0000, 0.0000, 0.0000, 0.0000, 0.0000, 0.0000, 0.0000,\n",
              "         0.0000, 0.0000, 0.0000, 0.0000, 0.0625, 0.3633, 0.9844, 0.9883, 0.7305,\n",
              "         0.0000, 0.0000, 0.0000, 0.0000, 0.0000, 0.0000, 0.0000, 0.0000, 0.0000,\n",
              "         0.0000, 0.0000, 0.0000, 0.0000, 0.0000, 0.0000, 0.0000, 0.0000, 0.0000,\n",
              "         0.0000, 0.0000, 0.0000, 0.0000, 0.0000, 0.0000, 0.0000, 0.9727, 0.9883,\n",
              "         0.9727, 0.2500, 0.0000, 0.0000, 0.0000, 0.0000, 0.0000, 0.0000, 0.0000,\n",
              "         0.0000, 0.0000, 0.0000, 0.0000, 0.0000, 0.0000, 0.0000, 0.0000, 0.0000,\n",
              "         0.0000, 0.0000, 0.0000, 0.0000, 0.0000, 0.1797, 0.5078, 0.7148, 0.9883,\n",
              "         0.9883, 0.8086, 0.0078, 0.0000, 0.0000, 0.0000, 0.0000, 0.0000, 0.0000,\n",
              "         0.0000, 0.0000, 0.0000, 0.0000, 0.0000, 0.0000, 0.0000, 0.0000, 0.0000,\n",
              "         0.0000, 0.0000, 0.0000, 0.0000, 0.1523, 0.5781, 0.8945, 0.9883, 0.9883,\n",
              "         0.9883, 0.9766, 0.7109, 0.0000, 0.0000, 0.0000, 0.0000, 0.0000, 0.0000,\n",
              "         0.0000, 0.0000, 0.0000, 0.0000, 0.0000, 0.0000, 0.0000, 0.0000, 0.0000,\n",
              "         0.0000, 0.0000, 0.0000, 0.0938, 0.4453, 0.8633, 0.9883, 0.9883, 0.9883,\n",
              "         0.9883, 0.7852, 0.3047, 0.0000, 0.0000, 0.0000, 0.0000, 0.0000, 0.0000,\n",
              "         0.0000, 0.0000, 0.0000, 0.0000, 0.0000, 0.0000, 0.0000, 0.0000, 0.0000,\n",
              "         0.0000, 0.0000, 0.0898, 0.2578, 0.8320, 0.9883, 0.9883, 0.9883, 0.9883,\n",
              "         0.7734, 0.3164, 0.0078, 0.0000, 0.0000, 0.0000, 0.0000, 0.0000, 0.0000,\n",
              "         0.0000, 0.0000, 0.0000, 0.0000, 0.0000, 0.0000, 0.0000, 0.0000, 0.0000,\n",
              "         0.0000, 0.0703, 0.6680, 0.8555, 0.9883, 0.9883, 0.9883, 0.9883, 0.7617,\n",
              "         0.3125, 0.0352, 0.0000, 0.0000, 0.0000, 0.0000, 0.0000, 0.0000, 0.0000,\n",
              "         0.0000, 0.0000, 0.0000, 0.0000, 0.0000, 0.0000, 0.0000, 0.0000, 0.0000,\n",
              "         0.2148, 0.6719, 0.8828, 0.9883, 0.9883, 0.9883, 0.9883, 0.9531, 0.5195,\n",
              "         0.0430, 0.0000, 0.0000, 0.0000, 0.0000, 0.0000, 0.0000, 0.0000, 0.0000,\n",
              "         0.0000, 0.0000, 0.0000, 0.0000, 0.0000, 0.0000, 0.0000, 0.0000, 0.0000,\n",
              "         0.0000, 0.5312, 0.9883, 0.9883, 0.9883, 0.8281, 0.5273, 0.5156, 0.0625,\n",
              "         0.0000, 0.0000, 0.0000, 0.0000, 0.0000, 0.0000, 0.0000, 0.0000, 0.0000,\n",
              "         0.0000, 0.0000, 0.0000, 0.0000, 0.0000, 0.0000, 0.0000, 0.0000, 0.0000,\n",
              "         0.0000, 0.0000, 0.0000, 0.0000, 0.0000, 0.0000, 0.0000, 0.0000, 0.0000,\n",
              "         0.0000, 0.0000, 0.0000, 0.0000, 0.0000, 0.0000, 0.0000, 0.0000, 0.0000,\n",
              "         0.0000, 0.0000, 0.0000, 0.0000, 0.0000, 0.0000, 0.0000, 0.0000, 0.0000,\n",
              "         0.0000, 0.0000, 0.0000, 0.0000, 0.0000, 0.0000, 0.0000, 0.0000, 0.0000,\n",
              "         0.0000, 0.0000, 0.0000, 0.0000, 0.0000, 0.0000, 0.0000, 0.0000, 0.0000,\n",
              "         0.0000, 0.0000, 0.0000, 0.0000, 0.0000, 0.0000, 0.0000, 0.0000, 0.0000,\n",
              "         0.0000, 0.0000, 0.0000, 0.0000, 0.0000, 0.0000, 0.0000, 0.0000, 0.0000,\n",
              "         0.0000, 0.0000, 0.0000, 0.0000, 0.0000, 0.0000, 0.0000, 0.0000, 0.0000,\n",
              "         0.0000, 0.0000, 0.0000, 0.0000, 0.0000, 0.0000, 0.0000, 0.0000, 0.0000,\n",
              "         0.0000], dtype=torch.float64),\n",
              " tensor(5, dtype=torch.uint8))"
            ]
          },
          "metadata": {},
          "execution_count": 27
        }
      ]
    },
    {
      "cell_type": "code",
      "source": [
        "loader = DataLoader( dataset, batch_size = 50, shuffle = False)"
      ],
      "metadata": {
        "id": "ozL04-lXHB6J"
      },
      "execution_count": null,
      "outputs": []
    },
    {
      "cell_type": "markdown",
      "source": [
        "# NN Design"
      ],
      "metadata": {
        "id": "U07Sv4QEMGUA"
      }
    },
    {
      "cell_type": "code",
      "source": [
        "model = nn.Sequential(\n",
        "    nn.Linear(784, 128, dtype=float),\n",
        "    nn.ReLU(True),\n",
        "    nn.Linear(128,64, dtype=float),\n",
        "    nn.ReLU(True),\n",
        "    nn.Linear(64, 10, dtype = float),\n",
        ")"
      ],
      "metadata": {
        "id": "FVJof_xLMKVj"
      },
      "execution_count": null,
      "outputs": []
    },
    {
      "cell_type": "code",
      "source": [
        "model"
      ],
      "metadata": {
        "colab": {
          "base_uri": "https://localhost:8080/"
        },
        "id": "1mLIdKqFcIUq",
        "outputId": "2dae73f0-7f26-49f4-8d6a-fa7c252bad44"
      },
      "execution_count": null,
      "outputs": [
        {
          "output_type": "execute_result",
          "data": {
            "text/plain": [
              "Sequential(\n",
              "  (0): Linear(in_features=784, out_features=128, bias=True)\n",
              "  (1): ReLU(inplace=True)\n",
              "  (2): Linear(in_features=128, out_features=64, bias=True)\n",
              "  (3): ReLU(inplace=True)\n",
              "  (4): Linear(in_features=64, out_features=10, bias=True)\n",
              ")"
            ]
          },
          "metadata": {},
          "execution_count": 78
        }
      ]
    },
    {
      "cell_type": "markdown",
      "source": [
        "# Loss Fuction and Optimizer"
      ],
      "metadata": {
        "id": "8RIjZQv8iEZV"
      }
    },
    {
      "cell_type": "code",
      "source": [
        "criterian = nn.CrossEntropyLoss()"
      ],
      "metadata": {
        "id": "6zn2UL1tiOIT"
      },
      "execution_count": null,
      "outputs": []
    },
    {
      "cell_type": "code",
      "source": [
        "optimizer = optim.Adam(model.parameters(),lr = 0.001 )"
      ],
      "metadata": {
        "id": "6i2vWyIakhAK"
      },
      "execution_count": null,
      "outputs": []
    },
    {
      "cell_type": "markdown",
      "source": [
        "# Training Loop"
      ],
      "metadata": {
        "id": "dkUAnsBRwH6s"
      }
    },
    {
      "cell_type": "code",
      "source": [
        "softmax_layer = nn.Softmax(dim=0)"
      ],
      "metadata": {
        "id": "kQKSKwC6Ol-b"
      },
      "execution_count": null,
      "outputs": []
    },
    {
      "cell_type": "code",
      "source": [
        "flatten_tensor_features[0].shape"
      ],
      "metadata": {
        "colab": {
          "base_uri": "https://localhost:8080/"
        },
        "id": "E9r2oxpPSj74",
        "outputId": "b6c2af8a-7e5e-4e94-8c97-5d550f790dda"
      },
      "execution_count": null,
      "outputs": [
        {
          "output_type": "execute_result",
          "data": {
            "text/plain": [
              "torch.Size([784])"
            ]
          },
          "metadata": {},
          "execution_count": 57
        }
      ]
    },
    {
      "cell_type": "code",
      "source": [
        "tensor_labels[500]"
      ],
      "metadata": {
        "colab": {
          "base_uri": "https://localhost:8080/"
        },
        "id": "Gk0IegBqTfeB",
        "outputId": "7e318387-5ddb-413e-a4a5-26ed2719be64"
      },
      "execution_count": null,
      "outputs": [
        {
          "output_type": "execute_result",
          "data": {
            "text/plain": [
              "tensor(3, dtype=torch.uint8)"
            ]
          },
          "metadata": {},
          "execution_count": 59
        }
      ]
    },
    {
      "cell_type": "code",
      "source": [
        "running_loss = 0"
      ],
      "metadata": {
        "id": "Po8B98ffMiRJ"
      },
      "execution_count": null,
      "outputs": []
    },
    {
      "cell_type": "code",
      "source": [
        "for epoch in range(5):\n",
        "  running_loss = 0\n",
        "  for X_batch, y_batch in loader:\n",
        "    #forward bass\n",
        "    y_pridict = model(X_batch)\n",
        "    loss = criterian(y_pridict , y_batch)\n",
        "    #back propogate\n",
        "    optimizer.zero_grad()\n",
        "    loss.backward()\n",
        "    optimizer.step()\n",
        "    running_loss += loss.item()\n",
        "\n",
        "  print(f\"Epoch {epoch+1}, Training loss: {running_loss / len(loader):.4f}\")"
      ],
      "metadata": {
        "colab": {
          "base_uri": "https://localhost:8080/"
        },
        "id": "0hp8EoDXwMri",
        "outputId": "55ca68b8-a5f2-45ba-e925-3eab3ee1f447"
      },
      "execution_count": null,
      "outputs": [
        {
          "output_type": "stream",
          "name": "stdout",
          "text": [
            "Epoch 1, Training loss: 0.3357\n",
            "Epoch 2, Training loss: 0.1426\n",
            "Epoch 3, Training loss: 0.0954\n",
            "Epoch 4, Training loss: 0.0687\n",
            "Epoch 5, Training loss: 0.0515\n"
          ]
        }
      ]
    },
    {
      "cell_type": "code",
      "source": [
        "print(model(flatten_tensor_features[0]))"
      ],
      "metadata": {
        "colab": {
          "base_uri": "https://localhost:8080/"
        },
        "id": "QWefO2U3mC2f",
        "outputId": "29fc552f-169f-4e87-9581-096cc4b04f38"
      },
      "execution_count": null,
      "outputs": [
        {
          "output_type": "stream",
          "name": "stdout",
          "text": [
            "tensor([5.0171e-06, 8.0471e-16, 6.2966e-09, 3.2412e-03, 3.7278e-17, 9.9675e-01,\n",
            "        2.5862e-13, 5.2315e-07, 1.5972e-08, 1.3467e-12], dtype=torch.float64,\n",
            "       grad_fn=<SoftmaxBackward0>)\n"
          ]
        },
        {
          "output_type": "stream",
          "name": "stderr",
          "text": [
            "/usr/local/lib/python3.11/dist-packages/torch/nn/modules/module.py:1739: UserWarning: Implicit dimension choice for softmax has been deprecated. Change the call to include dim=X as an argument.\n",
            "  return self._call_impl(*args, **kwargs)\n"
          ]
        }
      ]
    },
    {
      "cell_type": "code",
      "source": [
        "u = softmax_layer(model(flatten_tensor_features[3]))"
      ],
      "metadata": {
        "id": "bgbF5ORp8E6h"
      },
      "execution_count": null,
      "outputs": []
    },
    {
      "cell_type": "code",
      "source": [
        "print(max(u.argmax(dim=0)))"
      ],
      "metadata": {
        "colab": {
          "base_uri": "https://localhost:8080/",
          "height": 263
        },
        "id": "nr8ymRdFK-GO",
        "outputId": "cab47ca1-746a-4367-fb7f-30a049f0f322"
      },
      "execution_count": null,
      "outputs": [
        {
          "output_type": "error",
          "ename": "TypeError",
          "evalue": "iteration over a 0-d tensor",
          "traceback": [
            "\u001b[0;31m---------------------------------------------------------------------------\u001b[0m",
            "\u001b[0;31mTypeError\u001b[0m                                 Traceback (most recent call last)",
            "\u001b[0;32m/tmp/ipython-input-94-3839514559.py\u001b[0m in \u001b[0;36m<cell line: 0>\u001b[0;34m()\u001b[0m\n\u001b[0;32m----> 1\u001b[0;31m \u001b[0mprint\u001b[0m\u001b[0;34m(\u001b[0m\u001b[0mmax\u001b[0m\u001b[0;34m(\u001b[0m\u001b[0mu\u001b[0m\u001b[0;34m.\u001b[0m\u001b[0margmax\u001b[0m\u001b[0;34m(\u001b[0m\u001b[0mdim\u001b[0m\u001b[0;34m=\u001b[0m\u001b[0;36m0\u001b[0m\u001b[0;34m)\u001b[0m\u001b[0;34m)\u001b[0m\u001b[0;34m)\u001b[0m\u001b[0;34m\u001b[0m\u001b[0;34m\u001b[0m\u001b[0m\n\u001b[0m",
            "\u001b[0;32m/usr/local/lib/python3.11/dist-packages/torch/_tensor.py\u001b[0m in \u001b[0;36m__iter__\u001b[0;34m(self)\u001b[0m\n\u001b[1;32m   1152\u001b[0m         \u001b[0;31m# See gh-54457\u001b[0m\u001b[0;34m\u001b[0m\u001b[0;34m\u001b[0m\u001b[0m\n\u001b[1;32m   1153\u001b[0m         \u001b[0;32mif\u001b[0m \u001b[0mself\u001b[0m\u001b[0;34m.\u001b[0m\u001b[0mdim\u001b[0m\u001b[0;34m(\u001b[0m\u001b[0;34m)\u001b[0m \u001b[0;34m==\u001b[0m \u001b[0;36m0\u001b[0m\u001b[0;34m:\u001b[0m\u001b[0;34m\u001b[0m\u001b[0;34m\u001b[0m\u001b[0m\n\u001b[0;32m-> 1154\u001b[0;31m             \u001b[0;32mraise\u001b[0m \u001b[0mTypeError\u001b[0m\u001b[0;34m(\u001b[0m\u001b[0;34m\"iteration over a 0-d tensor\"\u001b[0m\u001b[0;34m)\u001b[0m\u001b[0;34m\u001b[0m\u001b[0;34m\u001b[0m\u001b[0m\n\u001b[0m\u001b[1;32m   1155\u001b[0m         \u001b[0;32mif\u001b[0m \u001b[0mtorch\u001b[0m\u001b[0;34m.\u001b[0m\u001b[0m_C\u001b[0m\u001b[0;34m.\u001b[0m\u001b[0m_get_tracing_state\u001b[0m\u001b[0;34m(\u001b[0m\u001b[0;34m)\u001b[0m\u001b[0;34m:\u001b[0m\u001b[0;34m\u001b[0m\u001b[0;34m\u001b[0m\u001b[0m\n\u001b[1;32m   1156\u001b[0m             warnings.warn(\n",
            "\u001b[0;31mTypeError\u001b[0m: iteration over a 0-d tensor"
          ]
        }
      ]
    },
    {
      "cell_type": "code",
      "source": [],
      "metadata": {
        "id": "0wFBtdQ_IlpM"
      },
      "execution_count": null,
      "outputs": []
    }
  ]
}